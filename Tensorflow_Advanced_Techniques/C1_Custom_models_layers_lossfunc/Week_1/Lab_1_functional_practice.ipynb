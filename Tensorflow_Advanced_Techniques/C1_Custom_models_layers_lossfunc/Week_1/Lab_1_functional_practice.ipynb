{
  "cells": [
    {
      "cell_type": "markdown",
      "metadata": {
        "id": "view-in-github",
        "colab_type": "text"
      },
      "source": [
        "<a href=\"https://colab.research.google.com/github/anupa-aa/DeepLearning.AI-Courses/blob/master/Tensorflow_Advanced_Techniques/C1_Custom_models_layers_lossfunc/Week_1/Lab_1_functional_practice.ipynb\" target=\"_parent\"><img src=\"https://colab.research.google.com/assets/colab-badge.svg\" alt=\"Open In Colab\"/></a>"
      ]
    },
    {
      "cell_type": "markdown",
      "metadata": {
        "id": "aLcgKeac5x9d"
      },
      "source": [
        "# Ungraded Lab: Practice with the Keras Functional API\n",
        "\n",
        "This lab will demonstrate how to build models with the Functional syntax. You'll build one using the Sequential API and see how you can do the same with the Functional API. Both will arrive at the same architecture and you can train and evaluate it as usual."
      ]
    },
    {
      "cell_type": "markdown",
      "metadata": {
        "id": "p2Rp0ifF5x9g"
      },
      "source": [
        "## Imports"
      ]
    },
    {
      "cell_type": "code",
      "execution_count": 7,
      "metadata": {
        "id": "dNtAh1hY5x9h",
        "colab": {
          "base_uri": "https://localhost:8080/"
        },
        "outputId": "5a0a1834-e63d-4520-bd02-d56ee3e46d19"
      },
      "outputs": [
        {
          "output_type": "stream",
          "name": "stdout",
          "text": [
            "Colab only includes TensorFlow 2.x; %tensorflow_version has no effect.\n"
          ]
        }
      ],
      "source": [
        "try:\n",
        "  # %tensorflow_version only exists in Colab.\n",
        "  %tensorflow_version 2.x\n",
        "except Exception:\n",
        "  pass\n",
        "\n",
        "import tensorflow as tf\n",
        "from tensorflow.keras.utils import plot_model\n",
        "import pydot\n",
        "from tensorflow.keras.models import Model"
      ]
    },
    {
      "cell_type": "markdown",
      "metadata": {
        "id": "kV9zMTg65x9i"
      },
      "source": [
        "## Sequential API\n",
        "\n",
        "Here is how we use the `Sequential()` class to build a model."
      ]
    },
    {
      "cell_type": "code",
      "execution_count": 2,
      "metadata": {
        "id": "04Y-C9RYUTes"
      },
      "outputs": [],
      "source": [
        "def build_model_with_sequential():\n",
        "\n",
        "    # instantiate a Sequential class and linearly stack the layers of your model\n",
        "    seq_model = tf.keras.models.Sequential([tf.keras.layers.Flatten(input_shape=(28, 28)),\n",
        "                                            tf.keras.layers.Dense(128, activation=tf.nn.relu),\n",
        "                                            tf.keras.layers.Dense(10, activation=tf.nn.softmax)])\n",
        "    return seq_model"
      ]
    },
    {
      "cell_type": "markdown",
      "metadata": {
        "id": "EVPFKmrn5x9k"
      },
      "source": [
        "## Functional API\n",
        "\n",
        "And here is how you build the same model above with the functional syntax."
      ]
    },
    {
      "cell_type": "code",
      "execution_count": 3,
      "metadata": {
        "id": "bNj39OPh5x9k"
      },
      "outputs": [],
      "source": [
        "def build_model_with_functional():\n",
        "\n",
        "    # instantiate the input Tensor\n",
        "    input_layer = tf.keras.Input(shape=(28, 28))\n",
        "\n",
        "    # stack the layers using the syntax: new_layer()(previous_layer)\n",
        "    flatten_layer = tf.keras.layers.Flatten()(input_layer)\n",
        "    first_dense = tf.keras.layers.Dense(128, activation=tf.nn.relu)(flatten_layer)\n",
        "    output_layer = tf.keras.layers.Dense(10, activation=tf.nn.softmax)(first_dense)\n",
        "\n",
        "    # declare inputs and outputs\n",
        "    func_model = Model(inputs=input_layer, outputs=output_layer)\n",
        "\n",
        "    return func_model"
      ]
    },
    {
      "cell_type": "markdown",
      "metadata": {
        "id": "O0YkbGmE5x9l"
      },
      "source": [
        "## Build the model and visualize the model graph"
      ]
    },
    {
      "cell_type": "markdown",
      "metadata": {
        "id": "TdMh4ilo5x9m"
      },
      "source": [
        "You can choose how to build your model below. Just uncomment which function you'd like to use. You'll notice that the plot will look the same."
      ]
    },
    {
      "cell_type": "code",
      "execution_count": 8,
      "metadata": {
        "id": "OoyBgiXd5x9m",
        "outputId": "1efd4632-3eb0-4b6c-d295-dfb9149b571a",
        "colab": {
          "base_uri": "https://localhost:8080/",
          "height": 422
        }
      },
      "outputs": [
        {
          "output_type": "execute_result",
          "data": {
            "image/png": "[encoded data removed]",
            "text/plain": [
              "<IPython.core.display.Image object>"
            ]
          },
          "metadata": {},
          "execution_count": 8
        }
      ],
      "source": [
        "model = build_model_with_functional()\n",
        "#model = build_model_with_sequential()\n",
        "\n",
        "# Plot model graph\n",
        "plot_model(model, show_shapes=True, show_layer_names=True, to_file='model.png')"
      ]
    },
    {
      "cell_type": "markdown",
      "metadata": {
        "id": "L8DCbK5U5x9n"
      },
      "source": [
        "## Training the model\n",
        "\n",
        "Regardless if you built it with the Sequential or Functional API, you'll follow the same steps when training and evaluating your model."
      ]
    },
    {
      "cell_type": "code",
      "execution_count": 9,
      "metadata": {
        "id": "uTw9ywrL5x9o",
        "outputId": "91b3ef6a-1bf9-482f-a5d9-14685435094c",
        "colab": {
          "base_uri": "https://localhost:8080/"
        }
      },
      "outputs": [
        {
          "output_type": "stream",
          "name": "stdout",
          "text": [
            "Downloading data from https://storage.googleapis.com/tensorflow/tf-keras-datasets/train-labels-idx1-ubyte.gz\n",
            "29515/29515 [==============================] - 0s 0us/step\n",
            "Downloading data from https://storage.googleapis.com/tensorflow/tf-keras-datasets/train-images-idx3-ubyte.gz\n",
            "26421880/26421880 [==============================] - 0s 0us/step\n",
            "Downloading data from https://storage.googleapis.com/tensorflow/tf-keras-datasets/t10k-labels-idx1-ubyte.gz\n",
            "5148/5148 [==============================] - 0s 0us/step\n",
            "Downloading data from https://storage.googleapis.com/tensorflow/tf-keras-datasets/t10k-images-idx3-ubyte.gz\n",
            "4422102/4422102 [==============================] - 0s 0us/step\n",
            "Epoch 1/5\n",
            "1875/1875 [==============================] - 9s 4ms/step - loss: 0.5028 - accuracy: 0.8253\n",
            "Epoch 2/5\n",
            "1875/1875 [==============================] - 8s 4ms/step - loss: 0.3813 - accuracy: 0.8613\n",
            "Epoch 3/5\n",
            "1875/1875 [==============================] - 8s 4ms/step - loss: 0.3380 - accuracy: 0.8766\n",
            "Epoch 4/5\n",
            "1875/1875 [==============================] - 8s 4ms/step - loss: 0.3150 - accuracy: 0.8844\n",
            "Epoch 5/5\n",
            "1875/1875 [==============================] - 8s 4ms/step - loss: 0.2979 - accuracy: 0.8894\n",
            "313/313 [==============================] - 1s 2ms/step - loss: 0.3443 - accuracy: 0.8775\n"
          ]
        },
        {
          "output_type": "execute_result",
          "data": {
            "text/plain": [
              "[0.3442564308643341, 0.8774999976158142]"
            ]
          },
          "metadata": {},
          "execution_count": 9
        }
      ],
      "source": [
        "# prepare fashion mnist dataset\n",
        "mnist = tf.keras.datasets.fashion_mnist\n",
        "(training_images, training_labels), (test_images, test_labels) = mnist.load_data()\n",
        "training_images = training_images / 255.0\n",
        "test_images = test_images / 255.0\n",
        "\n",
        "# configure, train, and evaluate the model\n",
        "model.compile(optimizer=tf.optimizers.Adam(),\n",
        "              loss='sparse_categorical_crossentropy',\n",
        "              metrics=['accuracy'])\n",
        "model.fit(training_images, training_labels, epochs=5)\n",
        "model.evaluate(test_images, test_labels)"
      ]
    }
  ],
  "metadata": {
    "colab": {
      "provenance": [],
      "include_colab_link": true
    },
    "kernelspec": {
      "display_name": "Python 3",
      "language": "python",
      "name": "python3"
    },
    "language_info": {
      "codemirror_mode": {
        "name": "ipython",
        "version": 3
      },
      "file_extension": ".py",
      "mimetype": "text/x-python",
      "name": "python",
      "nbconvert_exporter": "python",
      "pygments_lexer": "ipython3",
      "version": "3.7.6"
    }
  },
  "nbformat": 4,
  "nbformat_minor": 0
}